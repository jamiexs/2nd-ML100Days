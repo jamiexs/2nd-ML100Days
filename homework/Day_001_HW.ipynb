{
 "cells": [
  {
   "cell_type": "markdown",
   "metadata": {},
   "source": [
    "### 作業1：\n",
    "\n",
    "選擇的資料：Google Play Store Apps - Web scraped data of 10k Play Store apps for analysing the Android market.\n",
    "\n",
    "1. 你選的這組資料為何重要  \n",
    "人在日常生活對手機越來越依賴，google play為android的使用者提供了各式各樣應用程式。\n",
    "可以蒐集並分析這些資料有助於開發出更適合使用者需求的應用程式、以利於開發android市場。\n",
    "\n",
    "2. 資料從何而來 (tips: 譬如提供者是誰、以什麼方式蒐集)  \n",
    "提供者：google play, 由 Lavanya Gupta 蒐集  \n",
    "蒐集方式：JQuery\n",
    "\n",
    "3. 蒐集而來的資料型態為何  \n",
    "google play上有關應用程式的資訊，\n",
    "評分、應用程式大小、安裝次數、價錢、分類、年齡限制。\n",
    "\n",
    "4. 這組資料想解決的問題如何評估  \n",
    "分析android 應用程式的市場，\n",
    "從收集回來的資料歸納出不同類型應用程式的目標客群、預估APP可能的下載量，\n",
    "從而調整投入開發的成本、內容、定價等等。\n"
   ]
  },
  {
   "cell_type": "markdown",
   "metadata": {},
   "source": [
    "### 作業2\n",
    "想像你經營一個自由載客車隊，你希望能透過數據分析以提升業績，請你思考並描述你如何規劃整體的分析/解決方案\n",
    "\n",
    "1. 核心問題為何 (tips：如何定義 「提升業績 & 你的假設」)  \n",
    "提升業績：提升每日載客量、改善車隊調動機制、改進客戶叫車方法、提升客戶體驗、\n",
    "\n",
    "2. 資料從何而來 (tips：哪些資料可能會對你想問的問題產生影響 & 資料如何蒐集)  \n",
    "從車隊直接收集(車上電腦、遠端監控、司機)：行車路線、行車路況、行車時間、載客人數、載客次數、行李多寡、上下車地點及時間、車款、車上設備、客戶叫車的方法及工具、從叫車到載客的時間、客戶付款方式、跳表計價規則、收入(日、月、年)、事故發生紀錄、乘客糾紛紀錄、行車糾紛紀錄、客戶反饋意見\n",
    "\n",
    "3. 蒐集而來的資料型態為何  \n",
    "時間、GPS定位及路線、數字(人數、行李等)、分類(款式、叫車方法、付款方式等)、文字(客戶反饋、糾紛紀錄、事故紀錄等)\n",
    "\n",
    "4. 你要回答的問題，其如何評估 (tips：你的假設如何驗證)  \n",
    "分析取得的資料，找出可獲得高收入及客戶正面反饋的影響因素可能與那些資料或服務相關，\n",
    "可以嘗試調整車隊的這些服務的品質，例如增加付款方式的種類、上下車地點頻繁出現的地方附近設立車隊據點、定期檢查並更新車上設備、由客戶叫車放式來調整廣告投放方式等等，\n",
    "調整後繼續收集資料並分析，觀察這樣的調整是否確實能帶來業績成長，若否，則調整其他變因再做嘗試。"
   ]
  },
  {
   "cell_type": "markdown",
   "metadata": {},
   "source": [
    "### 作業3：\n",
    "\n",
    "請點選下方檢視範例依照 Day_001_example_of_metrics.ipynb 完成 Mean Squared Error 的函式\n",
    "\n",
    "資料夾結構建立規則提醒：2nd-ML100Days > data資料夾 & homework資料夾 (ipynb檔) \n",
    "\n",
    "(請注意data的存放位置，建議放在*.ipynb 同一個目錄下，這樣才能在不修改code的情況下正常執行)\n",
    "\n",
    "\n",
    "範例內容省略\n",
    "​## 練習時間\n",
    "#### 請寫一個函式用來計算 Mean Square Error\n",
    "$ MSE = \\frac{1}{n}\\sum_{i=1}^{n}{(Y_i - \\hat{Y}_i)^2} $\n",
    "\n",
    "### Hint: [如何取平方](https://googoodesign.gitbooks.io/-ezpython/unit-1.html)"
   ]
  },
  {
   "cell_type": "code",
   "execution_count": 15,
   "metadata": {},
   "outputs": [],
   "source": [
    "import numpy as np\n",
    "import matplotlib.pyplot as plt\n",
    "import math"
   ]
  },
  {
   "cell_type": "code",
   "execution_count": 35,
   "metadata": {},
   "outputs": [
    {
     "data": {
      "image/png": "[encoded data removed]",
      "text/plain": [
       "<matplotlib.figure.Figure at 0x8aa6908>"
      ]
     },
     "metadata": {},
     "output_type": "display_data"
    }
   ],
   "source": [
    "w = 3\n",
    "b = 0.5\n",
    "\n",
    "x_lin = np.linspace(0, 100, 101)\n",
    "\n",
    "y = (x_lin + np.random.randn(101) * 5) * w + b\n",
    "y_hat = x_lin * w + b\n",
    "\n",
    "\n",
    "plt.plot(x_lin, y, 'b.', label = 'data')\n",
    "plt.plot(x_lin, y_hat, 'r-', label = 'prediction')\n",
    "plt.title(\"Assume we have data points (And the prediction)\")\n",
    "plt.legend(loc = 2)\n",
    "plt.show()"
   ]
  },
  {
   "cell_type": "code",
   "execution_count": 36,
   "metadata": {},
   "outputs": [
    {
     "name": "stdout",
     "output_type": "stream",
     "text": [
      "The Mean squared error is 242.956\n"
     ]
    }
   ],
   "source": [
    "def mean_squared_error(y, yp):\n",
    "    \"\"\"\n",
    "    計算 MSE\n",
    "    Args:\n",
    "        - y: 實際值\n",
    "        - yp: 預測值\n",
    "    Return:\n",
    "        - mse: MSE\n",
    "    \"\"\"\n",
    "    mse = MSE = sum( (y - yp)**2 ) / len(y)\n",
    "    return mse\n",
    "\n",
    "MSE = mean_squared_error(y, y_hat)\n",
    "print(\"The Mean squared error is %.3f\" % (MSE))"
   ]
  },
  {
   "cell_type": "code",
   "execution_count": null,
   "metadata": {},
   "outputs": [],
   "source": []
  }
 ],
 "metadata": {
  "kernelspec": {
   "display_name": "Python 3",
   "language": "python",
   "name": "python3"
  },
  "language_info": {
   "codemirror_mode": {
    "name": "ipython",
    "version": 3
   },
   "file_extension": ".py",
   "mimetype": "text/x-python",
   "name": "python",
   "nbconvert_exporter": "python",
   "pygments_lexer": "ipython3",
   "version": "3.6.4"
  }
 },
 "nbformat": 4,
 "nbformat_minor": 2
}
